{
 "cells": [
  {
   "cell_type": "code",
   "execution_count": 1,
   "id": "4f1d10fb",
   "metadata": {},
   "outputs": [
    {
     "data": {
      "text/plain": [
       "{'divide': 'ignore', 'over': 'warn', 'under': 'ignore', 'invalid': 'warn'}"
      ]
     },
     "execution_count": 1,
     "metadata": {},
     "output_type": "execute_result"
    }
   ],
   "source": [
    "import matplotlib.pyplot as plt\n",
    "%config InlineBackend.figure_format = 'retina'\n",
    "%matplotlib inline\n",
    "\n",
    "\n",
    "import numpy as np\n",
    "import numpy.ma as ma\n",
    "from scipy import linalg\n",
    "from numpy.linalg import inv\n",
    "import pandas as pd\n",
    "\n",
    "np.seterr(divide='ignore')\n",
    "np.seterr(over='ignore')"
   ]
  },
  {
   "cell_type": "code",
   "execution_count": 2,
   "id": "c7300256",
   "metadata": {},
   "outputs": [],
   "source": [
    "from importlib import reload"
   ]
  },
  {
   "cell_type": "code",
   "execution_count": 3,
   "id": "d98dcc06",
   "metadata": {},
   "outputs": [],
   "source": [
    "import gloesspy3 as gf"
   ]
  },
  {
   "cell_type": "code",
   "execution_count": 4,
   "id": "5eb0a69c",
   "metadata": {},
   "outputs": [],
   "source": [
    "source_id = 1820309639468685824"
   ]
  },
  {
   "cell_type": "code",
   "execution_count": 22,
   "id": "5143be7d",
   "metadata": {},
   "outputs": [
    {
     "data": {
      "text/plain": [
       "<module 'gloesspy3' from '/Users/vs522/Dropbox/Python/oo_gloess/gloesspy3.py'>"
      ]
     },
     "execution_count": 22,
     "metadata": {},
     "output_type": "execute_result"
    }
   ],
   "source": [
    "reload(gf)"
   ]
  },
  {
   "cell_type": "code",
   "execution_count": 23,
   "id": "0cd06ca8",
   "metadata": {},
   "outputs": [
    {
     "name": "stdout",
     "output_type": "stream",
     "text": [
      "Fitting Gaia DR3 1820309639468685824\n",
      "INFO: Query finished. [astroquery.utils.tap.core]\n",
      "saved lightcurve plot to GaiaDR31820309639468685824_gloess_lc.pdf\n",
      "GaiaDR3_1820309639468685824_gloess_fit.csv\n",
      "Saved gloess fit to GaiaDR3_1820309639468685824_gloess_fit.csv\n"
     ]
    }
   ],
   "source": [
    "fit_results, period, df, gloess = gf.gaia_gloess_fit_and_plot(source_id, period_col='pf', show_means=True)"
   ]
  },
  {
   "cell_type": "code",
   "execution_count": 6,
   "id": "81ae4106",
   "metadata": {},
   "outputs": [
    {
     "data": {
      "text/plain": [
       "array([[20.57145405, 20.22820187, 19.88837624, ...,  5.57027801,\n",
       "         5.57458111,  5.5800018 ],\n",
       "       [ 7.22546196,  7.14833546,  7.07217979, ...,  5.1922033 ,\n",
       "         5.19385942,  5.1965529 ],\n",
       "       [42.46178532, 41.61874199, 40.78534555, ...,  4.6177259 ,\n",
       "         4.61899461,  4.62099986]])"
      ]
     },
     "execution_count": 6,
     "metadata": {},
     "output_type": "execute_result"
    }
   ],
   "source": [
    "fit_results"
   ]
  },
  {
   "cell_type": "code",
   "execution_count": 8,
   "id": "29dca3f3",
   "metadata": {},
   "outputs": [],
   "source": [
    "av_mag, int_av_mag, amp = gf.get_lc_stats(fit_results[0])"
   ]
  },
  {
   "cell_type": "code",
   "execution_count": 9,
   "id": "169c255e",
   "metadata": {},
   "outputs": [
    {
     "data": {
      "text/plain": [
       "5.839338852425276"
      ]
     },
     "execution_count": 9,
     "metadata": {},
     "output_type": "execute_result"
    }
   ],
   "source": [
    "av_mag"
   ]
  },
  {
   "cell_type": "code",
   "execution_count": 10,
   "id": "b9de781f",
   "metadata": {},
   "outputs": [
    {
     "data": {
      "text/plain": [
       "5.808291250901322"
      ]
     },
     "execution_count": 10,
     "metadata": {},
     "output_type": "execute_result"
    }
   ],
   "source": [
    "int_av_mag"
   ]
  },
  {
   "cell_type": "code",
   "execution_count": 11,
   "id": "e377321c",
   "metadata": {},
   "outputs": [
    {
     "data": {
      "text/plain": [
       "0.7789247538184201"
      ]
     },
     "execution_count": 11,
     "metadata": {},
     "output_type": "execute_result"
    }
   ],
   "source": [
    "amp"
   ]
  },
  {
   "cell_type": "code",
   "execution_count": 13,
   "id": "e1332f68",
   "metadata": {},
   "outputs": [
    {
     "name": "stdout",
     "output_type": "stream",
     "text": [
      "Fitting Gaia DR3 1820309639468685824\n",
      "INFO: Query finished. [astroquery.utils.tap.core]\n",
      "saved lightcurve plot to GaiaDR31820309639468685824_gloess_lc.pdf\n",
      "GaiaDR3_1820309639468685824_gloess_fit.csv\n",
      "Saved gloess fit to GaiaDR3_1820309639468685824_gloess_fit.csv\n"
     ]
    }
   ],
   "source": [
    "fit_results, period, df, gloess = gf.gaia_gloess_fit_and_plot(source_id, period_col='pf')"
   ]
  },
  {
   "cell_type": "code",
   "execution_count": null,
   "id": "283d364a",
   "metadata": {},
   "outputs": [],
   "source": []
  }
 ],
 "metadata": {
  "kernelspec": {
   "display_name": "Python 3 (ipykernel)",
   "language": "python",
   "name": "python3"
  },
  "language_info": {
   "codemirror_mode": {
    "name": "ipython",
    "version": 3
   },
   "file_extension": ".py",
   "mimetype": "text/x-python",
   "name": "python",
   "nbconvert_exporter": "python",
   "pygments_lexer": "ipython3",
   "version": "3.10.4"
  }
 },
 "nbformat": 4,
 "nbformat_minor": 5
}
